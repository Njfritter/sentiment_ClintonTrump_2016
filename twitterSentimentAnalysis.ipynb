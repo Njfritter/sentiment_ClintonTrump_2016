{
 "cells": [
  {
   "cell_type": "markdown",
   "metadata": {},
   "source": [
    "# Supervised Sentiment Analysis \n",
    "Here for this project we will be analyzing Tweets about the President Candidates by word; we will \"tokenize\" each word\n",
    "(which essentially means that we split up sentences by word or sets of words) and then determine sentiment through\n",
    "these words. \"Supervised\" in the above title means that I will be supplying the labels for the tweets; for these tweets here I have already classified 300 out of the 400 as either positive, negative or neutral. Then I will train a Multinomial Naive Bayes algorithm, as well as a Linear Support Vector Machine with a SGD (Stochastic Gradient Descent) Classifier. These two algorithms are very popular for these types of classification problems that have more than 2 response classes. 200 data points will go into training, 100 will go into testing, and the last 100 that are unlabeled will be predicted and looked at. \n",
    "\n",
    "# Unsupervised Sentiment Analysis\n",
    "After completing the supervised algorithm, I will go and perform an unsupervised sentiment analysis on an unlabeled version of the original dataset. This algorithm will have a small base of words to determine sentiment; here I will use \"create\" and \"destroy\" as the base words. The algorithm determines semantic orientation of a phrase by subtracting the mutual information between the given phrase and word \"destroy\" from the mutual information between the phrase and the word \"create\". For more information on how exactly this algorithm works visit this site below:\n",
    "http://nparc.cisti-icist.nrc-cnrc.gc.ca/eng/view/accepted/?id=4bb7a0c8-9d9b-4ded-bcf6-fdf64ee28ccc\n",
    "\n",
    "Here we will import some libraries to get going:"
   ]
  },
  {
   "cell_type": "code",
   "execution_count": 1,
   "metadata": {
    "collapsed": true
   },
   "outputs": [],
   "source": [
    "import pandas as pd\n",
    "import csv\n",
    "import sys\n",
    "import random\n",
    "import numpy as np\n",
    "import time\n",
    "from time import strftime"
   ]
  },
  {
   "cell_type": "markdown",
   "metadata": {},
   "source": [
    "This will allow us to parse the CSV and extract necessary data we need. "
   ]
  },
  {
   "cell_type": "code",
   "execution_count": 2,
   "metadata": {
    "collapsed": true
   },
   "outputs": [],
   "source": [
    "import pygal\n",
    "from IPython.display import SVG"
   ]
  },
  {
   "cell_type": "code",
   "execution_count": 3,
   "metadata": {
    "collapsed": true
   },
   "outputs": [],
   "source": [
    "predicted_data_NB = \"predicted_nb.csv\"\n",
    "predicted_data_LSVM = \"predicted_lsvm.csv\""
   ]
  },
  {
   "cell_type": "code",
   "execution_count": 5,
   "metadata": {
    "collapsed": true
   },
   "outputs": [],
   "source": [
    "def compare_predictions():\n",
    "    names = [\"president\", \"tweet\", \"prediction\"]\n",
    "    naive_bayes = pd.read_csv(predicted_data_NB, names = names)\n",
    "    linear_svm = pd.read_csv(predicted_data_LSVM, names = names)\n",
    "\n",
    "    naive_bayes_pred = np.array(naive_bayes[\"prediction\"])\n",
    "    linear_svm_pred = np.array(linear_svm[\"prediction\"])\n",
    "\n",
    "    print(\"The precent similarity between a Multinomial Naive Bayes Algorithm and a Linear SVM algorithm with a SGD Classifier is: \")\n",
    "    print(np.mean(naive_bayes_pred == linear_svm_pred))\n",
    "\n",
    "    plot_predictions(naive_bayes_pred)\n",
    "    plot_predictions(linear_svm_pred)\n",
    "\n",
    "def plot_predictions(predictions):\n",
    "\n",
    "    pos_sent = len([k for k in predictions if k == \"positive\"]) / len(predictions)\n",
    "    neg_sent = len([k for k in predictions if k == \"negative\"]) / len(predictions)\n",
    "    neu_sent = len([k for k in predictions if k == \"neutral\"]) / len(predictions)\n",
    "\n",
    "    chart = pygal.HorizontalBar()\n",
    "    chart.title = 'Positive, Negative & Neutral Sentiment'\n",
    "    chart.add('Positive', pos_sent * 100)\n",
    "    chart.add('Negative', neg_sent * 100)\n",
    "    chart.add('Neutral', neu_sent * 100)\n",
    "    chart.render_to_file('sentiment.svg')\n",
    "    SVG(filename='sentiment.svg')"
   ]
  },
  {
   "cell_type": "code",
   "execution_count": null,
   "metadata": {
    "collapsed": true
   },
   "outputs": [],
   "source": []
  }
 ],
 "metadata": {
  "kernelspec": {
   "display_name": "Python 2",
   "language": "python",
   "name": "python2"
  },
  "language_info": {
   "codemirror_mode": {
    "name": "ipython",
    "version": 2
   },
   "file_extension": ".py",
   "mimetype": "text/x-python",
   "name": "python",
   "nbconvert_exporter": "python",
   "pygments_lexer": "ipython2",
   "version": "2.7.11"
  }
 },
 "nbformat": 4,
 "nbformat_minor": 0
}
